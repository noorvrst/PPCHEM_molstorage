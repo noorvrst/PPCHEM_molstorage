{
 "cells": [
  {
   "cell_type": "markdown",
   "metadata": {},
   "source": [
    "# ⚠️ MolStorage ⚠️\n",
    "A simple tool to help students analyze and understand the safety risks of different molecules and their proper storage."
   ]
  },
  {
   "cell_type": "markdown",
   "metadata": {},
   "source": [
    "# Chemical Compatibility Chart\n",
    "\n",
# Chemical Compatibility Chart

|               | Oxidizing <br> <img src="../assets/pictogramms/oxidizing.svg" width="30"> | Flammable <br> <img src="../assets/pictogramms/flammable.svg" width="30"> | Corrosive: ACID <br> <img src="../assets/pictogramms/corrosive.svg" width="30"> | Corrosive: BASE <br> <img src="../assets/pictogramms/corrosive.svg" width="30"> | Health hazard / toxic <br> <img src="../assets/pictogramms/health_hazard.svg" width="30"> <br> <img src="../assets/pictogramms/toxic.svg" width="30"> |
|---------------|:---------:|:---------:|:--------------:|:--------------:|:---------------------:|
| **Oxidizing** <br> <img src="../assets/pictogramms/oxidizing.svg" width="30"> | 🟢 | 🔴 | 🟡 | 🟡 | 🟡 |
| **Flammable** <br> <img src="../assets/pictogramms/flammable.svg" width="30"> | 🔴 | 🟢 | 🔴 | 🔴 | 🟡 |
| **Corrosive: ACID** <br> <img src="../assets/pictogramms/corrosive.svg" width="30"> | 🟡 | 🔴 | 🟢 | 🔴 | 🔴 |
| **Corrosive: BASE** <br> <img src="../assets/pictogramms/corrosive.svg" width="30"> | 🟡 | 🔴 | 🔴 | 🟢 | 🟡 |
| **Health hazard / toxic** <br> <img src="../assets/pictogramms/health_hazard.svg" width="30"> <br> <img src="../assets/pictogramms/toxic.svg" width="30"> | 🟡 | 🟡 | 🔴 | 🟡 | 🟢 |]
  }
 ],
 "metadata": {
  "kernelspec": {
   "display_name": "Python 3",
   "language": "python",
   "name": "python3"
  },
  "language_info": {
   "codemirror_mode": {
    "name": "ipython",
    "version": 3
   },
   "file_extension": ".py",
   "mimetype": "text/x-python",
   "name": "python",
   "nbconvert_exporter": "python",
   "pygments_lexer": "ipython3",
   "version": "3.8.10"
  }
 },
 "nbformat": 4,
 "nbformat_minor": 4
}
