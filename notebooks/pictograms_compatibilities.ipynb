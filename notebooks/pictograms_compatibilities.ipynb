{
 "cells": [
  {
   "cell_type": "markdown",
   "metadata": {},
   "source": [
    "# Chemical Compatibility Chart\n",
    "\n",
    "|               | Oxidizing <br> <img src=\"../assets/pictogramms/oxidizing.svg\" width=\"30\"> | Flammable <br> <img src=\"../assets/pictogramms/flammable.svg\" width=\"30\"> | Corrosive: ACID <br> <img src=\"../assets/pictogramms/corrosive.svg\" width=\"30\"> | Corrosive: BASE <br> <img src=\"../assets/pictogramms/corrosive.svg\" width=\"30\"> | Health hazard / toxic <br> <span style=\"white-space: nowrap;\"><img src=\"../assets/pictogramms/health_hazard.svg\" width=\"30\"> <img src=\"../assets/pictogramms/toxic.svg\" width=\"30\"></span> |\n",
    "|---------------|:---------:|:---------:|:--------------:|:--------------:|:---------------------:|\n",
    "| **Oxidizing** <br> <img src=\"../assets/pictogramms/oxidizing.svg\" width=\"30\"> | 🟢 | 🔴 | 🟡 | 🟡 | 🟡 |\n",
    "| **Flammable** <br> <img src=\"../assets/pictogramms/flammable.svg\" width=\"30\"> | 🔴 | 🟢 | 🔴 | 🔴 | 🟡 |\n",
    "| **Corrosive: ACID** <br> <img src=\"../assets/pictogramms/corrosive.svg\" width=\"30\"> | 🟡 | 🔴 | 🟢 | 🔴 | 🔴 |\n",
    "| **Corrosive: BASE** <br> <img src=\"../assets/pictogramms/corrosive.svg\" width=\"30\"> | 🟡 | 🔴 | 🔴 | 🟢 | 🟡 |\n",
    "| **Health hazard / toxic** <br> <img src=\"../assets/pictogramms/health_hazard.svg\" width=\"30\"> <br> <img src=\"../assets/pictogramms/toxic.svg\" width=\"30\"> | 🟡 | 🟡 | 🔴 | 🟡 | 🟢 |\n",
    "\n",
    "**Legend:**\n",
    "- 🟢 **Green**: Compatible — can be stored together safely.\n",
    "- 🔴 **Red**: Incompatible — must be stored separately to avoid hazardous reactions.\n",
    "- 🟡 **Yellow**: Conditional — store according to **Section 7** (Handling and Storage) and **Section 10** (Stability and Reactivity) of the substance's **Safety Data Sheet (SDS)**."
   ]
  }
 ],
 "metadata": {
  "kernelspec": {
   "display_name": "Python 3",
   "language": "python",
   "name": "python3"
  },
  "language_info": {
   "codemirror_mode": {
    "name": "ipython",
    "version": 3
   },
   "file_extension": ".py",
   "mimetype": "text/x-python",
   "name": "python",
   "nbconvert_exporter": "python",
   "pygments_lexer": "ipython3",
   "version": "3.8.10"
  }
 },
 "nbformat": 4,
 "nbformat_minor": 4
}
