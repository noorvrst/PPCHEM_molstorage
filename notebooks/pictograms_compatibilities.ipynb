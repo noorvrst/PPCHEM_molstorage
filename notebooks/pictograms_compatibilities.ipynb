{
 "cells": [
  {
   "cell_type": "markdown",
   "metadata": {},
   "source": [
    "# ⚠️ MolStorage ⚠️\n",
    "A simple tool to help students analyze and understand the safety risks of different molecules and their proper storage."
   ]
  },
  {
   "cell_type": "markdown",
   "metadata": {},
   "source": [
    "# Chemical Compatibility Chart\n",
    "\n",
    "|               | Oxidizing <br> ![Oxidizing](../assets/pictogramms/oxidizing.svg) | Flammable <br> ![Flammable](../assets/pictogramms/flammable.svg) | Corrosive: ACID <br> ![Corrosive](../assets/pictogramms/corrosive.svg) | Corrosive: BASE <br> ![Corrosive](../assets/pictogramms/corrosive.svg) | Health hazard / toxic <br> ![Health Hazard](../assets/pictogramms/health_hazard.svg) <br> ![Toxic](../assets/pictogramms/toxic.svg) |\n",
    "|---------------|:---------:|:---------:|:--------------:|:--------------:|:---------------------:|\n",
    "| **Oxidizing** <br> ![Oxidizing](../assets/pictogramms/oxidizing.svg) | 🟢 | 🔴 | 🟡 | 🟡 | 🟡 |\n",
    "| **Flammable** <br> ![Flammable](../assets/pictogramms/flammable.svg) | 🔴 | 🟢 | 🔴 | 🔴 | 🟡 |\n",
    "| **Corrosive: ACID** <br> ![Corrosive](../assets/pictogramms/corrosive.svg) | 🟡 | 🔴 | 🟢 | 🔴 | 🔴 |\n",
    "| **Corrosive: BASE** <br> ![Corrosive](../assets/pictogramms/corrosive.svg) | 🟡 | 🔴 | 🔴 | 🟢 | 🟡 |\n",
    "| **Health hazard / toxic** <br> ![Health Hazard](../assets/pictogramms/health_hazard.svg) <br> ![Toxic](../assets/pictogramms/toxic.svg) | 🟡 | 🟡 | 🔴 | 🟡 | 🟢 |"
   ]
  }
 ]
}
