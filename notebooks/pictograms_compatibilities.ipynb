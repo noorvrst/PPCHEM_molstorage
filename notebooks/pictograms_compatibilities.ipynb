{
 "cells": [
  {
   "cell_type": "markdown",
   "metadata": {},
   "source": [
    "# ⚠️ MolStorage ⚠️\n",
    "A simple tool to help students analyze and understand the safety risks of different molecules and their proper storage."
   ]
  },
  {
   "cell_type": "markdown",
   "metadata": {},
   "source": [
    "# Chemical Compatibility Chart\n",
    "\n",
    "|               | Oxidizing <br> ![Oxidizing](../assets/pictogramms/oxidizing.svg) | Flammable <br> ![Flammable](../assets/pictogramms/flammable.svg) | Corrosive: ACID <br> ![Corrosive](../assets/pictogramms/corrosive.svg) | Corrosive: BASE <br> ![Corrosive](../assets/pictogramms/corrosive.svg) | Health hazard / toxic <br> ![Health Hazard](../assets/pictogramms/health_hazard.svg) <br> ![Toxic](../assets/pictogramms/toxic.svg) |\n",
    "|---------------|:---------:|:---------:|:--------------:|:--------------:|:---------------------:|\n",
    "| **Oxidizing** <br> ![Oxidizing](../assets/pictogramms/oxidizing.svg) | 🟢 | 🔴 | 🟡 | 🟡 | 🟡 |\n",
    "| **Flammable** <br> ![Flammable](../assets/pictogramms/flammable.svg) | 🔴 | 🟢 | 🔴 | 🔴 | 🟡 |\n",
    "| **Corrosive: ACID** <br> ![Corrosive](../assets/pictogramms/corrosive.svg) | 🟡 | 🔴 | 🟢 | 🔴 | 🔴 |\n",
    "| **Corrosive: BASE** <br> ![Corrosive](../assets/pictogramms/corrosive.svg) | 🟡 | 🔴 | 🔴 | 🟢 | 🟡 |\n",
    "| **Health hazard / toxic** <br> ![Health Hazard](../assets/pictogramms/health_hazard.svg) <br> ![Toxic](../assets/pictogramms/toxic.svg) | 🟡 | 🟡 | 🔴 | 🟡 | 🟢 |"
   ]
  }
 ],
 "metadata": {
  "kernelspec": {
   "display_name": "Python 3",
   "language": "python",
   "name": "python3"
  },
  "language_info": {
   "codemirror_mode": {
    "name": "ipython",
    "version": 3
   },
   "file_extension": ".py",
   "mimetype": "text/x-python",
   "name": "python",
   "nbconvert_exporter": "python",
   "pygments_lexer": "ipython3",
   "version": "3.8.10"
  }
 },
 "nbformat": 4,
 "nbformat_minor": 4
}
