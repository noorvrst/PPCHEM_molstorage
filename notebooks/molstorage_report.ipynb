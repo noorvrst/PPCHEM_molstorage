{
 "cells": [
  {
   "cell_type": "markdown",
   "metadata": {},
   "source": [
    "<div align=\"center\">\n",
    "\n",
    "# 💥MolStorage💥\n",
    "\n",
    "A simple tool to help students analyze and understand the safety of different molecules and their proper storage\n",
    "\n",
    "</div>"
   ]
  },
  {
   "cell_type": "markdown",
   "metadata": {},
   "source": [
    "# Introduction\n",
    "## 1. Motivation\n"
   ]
  },
  {
   "cell_type": "markdown",
   "metadata": {},
   "source": [
    "<p style=\"text-align: justify;\">\n",
    "Chemistry students are often faced with the recurring challenge of gathering critical information about chemical compounds, such as safety data sheets (SDS), hazard pictograms, and specific properties. This process is not only tedious and time-consuming but also essential for ensuring proper handling and safety in both academic and laboratory settings. \n",
    "\n",
    "We therefore came up with the idea of developing an algorithm that can correctly organize various chemical products according to the guidelines provided by EPFL, in order to automate the process and save users from having to spend a long time searching for the different characteristics of each product. This tool also identifies and displays the different hazard categories associated with each substance.\n",
    "</p>"
   ]
  },
  {
   "cell_type": "markdown",
   "metadata": {},
   "source": [
    "![Security Table](Security_Table.png)"
   ]
  }
 ],
 "metadata": {
  "kernelspec": {
   "display_name": "ppchem",
   "language": "python",
   "name": "python3"
  },
  "language_info": {
   "codemirror_mode": {
    "name": "ipython",
    "version": 3
   },
   "file_extension": ".py",
   "mimetype": "text/x-python",
   "name": "python",
   "nbconvert_exporter": "python",
   "pygments_lexer": "ipython3",
   "version": "3.13.2"
  }
 },
 "nbformat": 4,
 "nbformat_minor": 2
}
