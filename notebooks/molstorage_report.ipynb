{
 "cells": [
  {
   "cell_type": "markdown",
   "metadata": {},
   "source": [
    "<div align=\"center\">\n",
    "\n",
    "# 💥MolStorage💥\n",
    "\n",
    "A simple tool to help students analyze and understand the safety of different molecules and their proper storage\n",
    "\n",
    "</div>"
   ]
  },
  {
   "cell_type": "markdown",
   "metadata": {},
   "source": [
    "# Introduction"
   ]
  },
  {
   "cell_type": "markdown",
   "metadata": {},
   "source": [
    "<p style=\"text-align: justify;\">\n",
    "    The algorithm used to compare two products relies on a set of predefined rules, \n",
    "    which are outlined in the table below. These rules specify which combinations \n",
    "    of hazard types are considered incompatible. If two products contain incompatible \n",
    "    hazard types, the algorithm determines that they cannot be stored together. The \n",
    "    table lists the specific hazard type combinations that trigger incompatibility, \n",
    "    such as \"Oxidizer\" and \"Flammable,\" or \"Corrosive\" and \"Acute Toxic.\" Additionally, \n",
    "    products labeled as \"Explosive\" or \"Compressed Gas\" are always considered incompatible \n",
    "    with any other product and must be stored alone.\n",
    "</p>"
   ]
  },
  {
   "cell_type": "markdown",
   "metadata": {},
   "source": [
    "![Security Table](Security_Table.png)"
   ]
  }
 ],
 "metadata": {
  "kernelspec": {
   "display_name": "ppchem",
   "language": "python",
   "name": "python3"
  },
  "language_info": {
   "codemirror_mode": {
    "name": "ipython",
    "version": 3
   },
   "file_extension": ".py",
   "mimetype": "text/x-python",
   "name": "python",
   "nbconvert_exporter": "python",
   "pygments_lexer": "ipython3",
   "version": "3.13.2"
  }
 },
 "nbformat": 4,
 "nbformat_minor": 2
}
